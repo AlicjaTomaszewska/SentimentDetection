{
 "cells": [
  {
   "cell_type": "code",
   "execution_count": 1,
   "metadata": {},
   "outputs": [],
   "source": [
    "from selenium import webdriver\n",
    "from selenium.webdriver.common.by import By\n",
    "from selenium.common.exceptions import NoSuchElementException\n",
    "from selenium.webdriver.support.ui import WebDriverWait\n",
    "from selenium.webdriver.support import expected_conditions as EC\n",
    "import pandas as pd\n",
    "from datetime import datetime, timedelta"
   ]
  },
  {
   "cell_type": "code",
   "execution_count": 64,
   "metadata": {},
   "outputs": [],
   "source": [
    "NUM_OF_PAGES = 25\n",
    "NUM_OF_ELEMENTS = 10\n",
    "BASE_HTML_PATH = \"/html/body/div[2]/div/main/div[2]/article/div/div[2]/div/div[2]/div[2]/div[2]/ul\"\n",
    "URL = \"https://www.nasdaq.com/market-activity/stocks/amzn/news-headlines\""
   ]
  },
  {
   "cell_type": "code",
   "execution_count": null,
   "metadata": {},
   "outputs": [],
   "source": [
    "# Initializing the Chrome WebDriver\n",
    "driver = webdriver.Chrome()\n",
    "\n",
    "# Navigating to the target URL\n",
    "driver.get(URL)"
   ]
  },
  {
   "cell_type": "code",
   "execution_count": null,
   "metadata": {},
   "outputs": [],
   "source": [
    "# Creating an empty DataFrame to strone news headlines and dates\n",
    "df = pd.DataFrame(columns=[\"news_header\", \"news_date\"])\n",
    "\n",
    "for _ in range(0, NUM_OF_PAGES):\n",
    "\n",
    "    WebDriverWait(driver, 10).until(\n",
    "        EC.presence_of_element_located(\n",
    "            (\n",
    "                By.XPATH,\n",
    "                f\"{BASE_HTML_PATH}/li[{NUM_OF_ELEMENTS}]/div[1]/a/span\"\n",
    "            )\n",
    "        )\n",
    "    )\n",
    "\n",
    "    for i in range(1, NUM_OF_ELEMENTS + 1):\n",
    "        try:\n",
    "            # Locating and extracting the news headline\n",
    "            xpath_news = f\"{BASE_HTML_PATH}/li[{i}]/div[1]/a/span\"\n",
    "            element_news = driver.find_element(By.XPATH, xpath_news)\n",
    "            element_text = element_news.text\n",
    "\n",
    "            # Locating and extracting the publication date\n",
    "            xpath_date = f\"{BASE_HTML_PATH}/li[{i}]/div[1]/div/span[1]\"\n",
    "            element_date = driver.find_element(By.XPATH, xpath_date)\n",
    "            element_date = element_date.text\n",
    "\n",
    "            df = pd.concat(\n",
    "                [\n",
    "                    df,\n",
    "                    pd.DataFrame(\n",
    "                        {\"news_header\": [element_text], \"news_date\": [element_date]}\n",
    "                    ),\n",
    "                ],\n",
    "                ignore_index=True,\n",
    "            )\n",
    "\n",
    "        except NoSuchElementException:\n",
    "            break\n",
    "\n",
    "    WebDriverWait(driver, 10).until(\n",
    "        EC.presence_of_element_located((By.CLASS_NAME, \"pagination__next\"))\n",
    "    )\n",
    "    driver.find_element(By.CSS_SELECTOR, \".pagination__next\").click()"
   ]
  },
  {
   "cell_type": "code",
   "execution_count": 68,
   "metadata": {},
   "outputs": [],
   "source": [
    "def _split_date(date: str) -> str:\n",
    "    return int(date.split()[0])\n",
    "\n",
    "def convert_to_datetime(date_str):\n",
    "    # Checking if it is full date\n",
    "    try:\n",
    "        return pd.to_datetime(date_str, format=\"%b %d, %Y\")\n",
    "    except (ValueError, TypeError):\n",
    "        # Getting current time\n",
    "        now = datetime.now()\n",
    "\n",
    "        if \"minute\" in date_str:\n",
    "            minutes = _split_date(date_str)\n",
    "            return now - timedelta(minutes=minutes)\n",
    "        elif \"hour\" in date_str:\n",
    "            hours = _split_date(date_str)\n",
    "            return now - timedelta(hours=hours)\n",
    "        elif \"day\" in date_str:\n",
    "            days = _split_date(date_str)\n",
    "            return now - timedelta(days=days)\n",
    "\n",
    "        return now  # Returning current date if format unknown"
   ]
  },
  {
   "cell_type": "code",
   "execution_count": 69,
   "metadata": {},
   "outputs": [],
   "source": [
    "df[\"news_date\"] = df[\"news_date\"].apply(convert_to_datetime)\n",
    "df[\"news_date\"] = df[\"news_date\"].dt.strftime(\"%Y-%m-%d\")"
   ]
  },
  {
   "cell_type": "code",
   "execution_count": 70,
   "metadata": {},
   "outputs": [
    {
     "data": {
      "text/html": [
       "<div>\n",
       "<style scoped>\n",
       "    .dataframe tbody tr th:only-of-type {\n",
       "        vertical-align: middle;\n",
       "    }\n",
       "\n",
       "    .dataframe tbody tr th {\n",
       "        vertical-align: top;\n",
       "    }\n",
       "\n",
       "    .dataframe thead th {\n",
       "        text-align: right;\n",
       "    }\n",
       "</style>\n",
       "<table border=\"1\" class=\"dataframe\">\n",
       "  <thead>\n",
       "    <tr style=\"text-align: right;\">\n",
       "      <th></th>\n",
       "      <th>news_header</th>\n",
       "      <th>news_date</th>\n",
       "    </tr>\n",
       "  </thead>\n",
       "  <tbody>\n",
       "    <tr>\n",
       "      <th>0</th>\n",
       "      <td>The Bull Market Keeps Growing: 3 Reasons to Bu...</td>\n",
       "      <td>2024-11-24</td>\n",
       "    </tr>\n",
       "    <tr>\n",
       "      <th>1</th>\n",
       "      <td>Target Stock Keeps Missing the Mark. Is It Tim...</td>\n",
       "      <td>2024-11-24</td>\n",
       "    </tr>\n",
       "    <tr>\n",
       "      <th>2</th>\n",
       "      <td>Could Investing $10,000 in QuantumScape Make Y...</td>\n",
       "      <td>2024-11-24</td>\n",
       "    </tr>\n",
       "    <tr>\n",
       "      <th>3</th>\n",
       "      <td>1 Monster Growth Stock Down 70% to Buy Right Now</td>\n",
       "      <td>2024-11-24</td>\n",
       "    </tr>\n",
       "    <tr>\n",
       "      <th>4</th>\n",
       "      <td>3 No-Brainer Fintech Stocks to Buy Right Now f...</td>\n",
       "      <td>2024-11-23</td>\n",
       "    </tr>\n",
       "    <tr>\n",
       "      <th>...</th>\n",
       "      <td>...</td>\n",
       "      <td>...</td>\n",
       "    </tr>\n",
       "    <tr>\n",
       "      <th>245</th>\n",
       "      <td>Rob Sanderson Beats the Drum on Amazon Stock</td>\n",
       "      <td>2024-11-10</td>\n",
       "    </tr>\n",
       "    <tr>\n",
       "      <th>246</th>\n",
       "      <td>Box Office Battle: ‘Venom: The Last Dance’ sta...</td>\n",
       "      <td>2024-11-10</td>\n",
       "    </tr>\n",
       "    <tr>\n",
       "      <th>247</th>\n",
       "      <td>Will These 4 \"Magnificent Seven\" Tech Stocks G...</td>\n",
       "      <td>2024-11-10</td>\n",
       "    </tr>\n",
       "    <tr>\n",
       "      <th>248</th>\n",
       "      <td>Magnificent Seven: Unstoppable Tech Giants or ...</td>\n",
       "      <td>2024-11-10</td>\n",
       "    </tr>\n",
       "    <tr>\n",
       "      <th>249</th>\n",
       "      <td>Guru Fundamental Report for AMZN</td>\n",
       "      <td>2024-11-10</td>\n",
       "    </tr>\n",
       "  </tbody>\n",
       "</table>\n",
       "<p>250 rows × 2 columns</p>\n",
       "</div>"
      ],
      "text/plain": [
       "                                           news_header   news_date\n",
       "0    The Bull Market Keeps Growing: 3 Reasons to Bu...  2024-11-24\n",
       "1    Target Stock Keeps Missing the Mark. Is It Tim...  2024-11-24\n",
       "2    Could Investing $10,000 in QuantumScape Make Y...  2024-11-24\n",
       "3     1 Monster Growth Stock Down 70% to Buy Right Now  2024-11-24\n",
       "4    3 No-Brainer Fintech Stocks to Buy Right Now f...  2024-11-23\n",
       "..                                                 ...         ...\n",
       "245       Rob Sanderson Beats the Drum on Amazon Stock  2024-11-10\n",
       "246  Box Office Battle: ‘Venom: The Last Dance’ sta...  2024-11-10\n",
       "247  Will These 4 \"Magnificent Seven\" Tech Stocks G...  2024-11-10\n",
       "248  Magnificent Seven: Unstoppable Tech Giants or ...  2024-11-10\n",
       "249                   Guru Fundamental Report for AMZN  2024-11-10\n",
       "\n",
       "[250 rows x 2 columns]"
      ]
     },
     "execution_count": 70,
     "metadata": {},
     "output_type": "execute_result"
    }
   ],
   "source": [
    "# print dataframe for debug purposes\n",
    "df"
   ]
  },
  {
   "cell_type": "code",
   "execution_count": null,
   "metadata": {},
   "outputs": [],
   "source": [
    "# Saving results to CSV file\n",
    "df.to_csv(\"DailyNewsHSTO\", sep=\";\")"
   ]
  },
  {
   "cell_type": "code",
   "execution_count": 63,
   "metadata": {},
   "outputs": [],
   "source": [
    "driver.quit()"
   ]
  }
 ],
 "metadata": {
  "kernelspec": {
   "display_name": ".venv",
   "language": "python",
   "name": "python3"
  },
  "language_info": {
   "codemirror_mode": {
    "name": "ipython",
    "version": 3
   },
   "file_extension": ".py",
   "mimetype": "text/x-python",
   "name": "python",
   "nbconvert_exporter": "python",
   "pygments_lexer": "ipython3",
   "version": "3.9.13"
  }
 },
 "nbformat": 4,
 "nbformat_minor": 2
}
